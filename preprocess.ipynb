{
 "cells": [
  {
   "cell_type": "code",
   "execution_count": 1,
   "id": "498f9fed",
   "metadata": {},
   "outputs": [],
   "source": [
    "#Preprocess\n",
    "#Importing essentials\n",
    "from __future__ import division\n",
    "import numpy as np\n",
    "import pandas as pd\n",
    "import os\n",
    "import csv\n",
    "import subprocess\n"
   ]
  },
  {
   "cell_type": "code",
   "execution_count": 2,
   "id": "16507bc7",
   "metadata": {},
   "outputs": [],
   "source": [
    "os.environ['TF_CPP_MIN_LOG_LEVEL'] = '3'\n",
    "\n",
    "__author__ = 'Ankush Sharma'\n"
   ]
  },
  {
   "cell_type": "code",
   "execution_count": 6,
   "id": "2045d33c",
   "metadata": {},
   "outputs": [],
   "source": [
    " # Given a string of unique characters, generates dictionary of 1-hot vector with characters as keys and vectors as values.\n",
    "def get_1h_dict(aa_string, props_file, add_props=True):\n",
    "    \n",
    "    aa_dict = {}\n",
    "\n",
    "    for idx, aa in enumerate(aa_string):\n",
    "\n",
    "        if idx > 0:\n",
    "            aa_dict[aa] = np.zeros(idx-1).tolist() + [1] +\\\n",
    "                          np.zeros(len(aa_string)-idx).tolist()\n",
    "        else:\n",
    "            aa_dict[aa] = [1] + np.zeros(len(aa_string)-1).tolist()\n",
    "\n",
    "    aa_dict[\"X\"] = np.zeros(len(aa_string)).tolist()\n",
    "\n",
    "    if add_props:\n",
    "        with open(props_file) as csvfile:\n",
    "            aa_props = csv.reader(csvfile)\n",
    "            for idx, row in enumerate(aa_props):\n",
    "                if idx > 0:\n",
    "                    aa = row[0]\n",
    "                    props = row[1:]\n",
    "                    aa_dict[aa] += map(float, props)\n",
    "\n",
    "    return aa_dict\n",
    "\n"
   ]
  },
  {
   "cell_type": "code",
   "execution_count": null,
   "id": "3c023a07",
   "metadata": {},
   "outputs": [],
   "source": []
  }
 ],
 "metadata": {
  "kernelspec": {
   "display_name": "Python 3",
   "language": "python",
   "name": "python3"
  },
  "language_info": {
   "codemirror_mode": {
    "name": "ipython",
    "version": 3
   },
   "file_extension": ".py",
   "mimetype": "text/x-python",
   "name": "python",
   "nbconvert_exporter": "python",
   "pygments_lexer": "ipython3",
   "version": "3.8.8"
  }
 },
 "nbformat": 4,
 "nbformat_minor": 5
}
